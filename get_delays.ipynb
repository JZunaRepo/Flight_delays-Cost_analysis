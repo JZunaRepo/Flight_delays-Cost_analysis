{
 "cells": [
  {
   "cell_type": "code",
   "execution_count": 77,
   "metadata": {},
   "outputs": [],
   "source": [
    "import psycopg2\n",
    "import pandas as pd \n",
    "import numpy as np\n",
    "from config import params\n",
    "\n",
    "# conn = psycopg2.connect(servers.params)\n",
    "conn = psycopg2.connect(**params)"
   ]
  },
  {
   "cell_type": "code",
   "execution_count": 3,
   "metadata": {},
   "outputs": [],
   "source": [
    "# cursor connection\n",
    "cursor = conn.cursor()\n",
    "cursor.execute(\"SELECT * FROM real_flight WHERE cancelled = 'False' and diverted = 'False'\")\n",
    "rows = cursor.fetchall()\n",
    "cursor.close()\n",
    "conn.close()"
   ]
  },
  {
   "cell_type": "code",
   "execution_count": 78,
   "metadata": {},
   "outputs": [
    {
     "data": {
      "text/plain": [
       "day_of_month              int64\n",
       "day_of_week               int64\n",
       "op_unique_carrier        object\n",
       "op_carrier_airline_id    object\n",
       "op_carrier               object\n",
       "tail_num                 object\n",
       "op_carrier_fl_num        object\n",
       "origin_airport_id        object\n",
       "origin_airport_seq_id    object\n",
       "origin                   object\n",
       "dest_airport_id          object\n",
       "dest_airport_seq_id      object\n",
       "dest                     object\n",
       "dep_time                 object\n",
       "dep_del15                  bool\n",
       "dep_time_blk             object\n",
       "arr_time                 object\n",
       "arr_del15                  bool\n",
       "cancelled                  bool\n",
       "diverted                   bool\n",
       "distance                 object\n",
       "dtype: object"
      ]
     },
     "execution_count": 78,
     "metadata": {},
     "output_type": "execute_result"
    }
   ],
   "source": [
    "df = pd.DataFrame(rows, columns=[desc.name for desc in cursor.description])\n",
    "cleaned_df = df.dropna(subset=['arr_del15', 'dep_del15'])"
   ]
  },
  {
   "cell_type": "code",
   "execution_count": 81,
   "metadata": {},
   "outputs": [],
   "source": [
    "#Classifying each delayed arilne by labeling 1 if either `ARR_DEL15` or `DEP_DEL15` or 0 if none were delayed\n",
    "cleaned_df[\"Delayed\"] = int(0)\n",
    "cleaned_df.loc[cleaned_df[\"arr_del15\"] == True, \"Delayed\"] = int(1)\n",
    "cleaned_df.loc[cleaned_df[\"dep_del15\"] == True, \"Delayed\"] = int(1)\n"
   ]
  },
  {
   "cell_type": "code",
   "execution_count": 93,
   "metadata": {},
   "outputs": [],
   "source": [
    "#Creating groups to find the ration per airline of delayed flights\n",
    "delayed_ratio_airline = cleaned_df.groupby(\"op_unique_carrier\")[\"Delayed\"].value_counts().reset_index(name=\"ratio\")\n",
    "delayed_ratio_airline[\"Ratio_Percentage\"] = round((delayed_ratio_airline[\"ratio\"] / delayed_ratio_airline.groupby('op_unique_carrier')[\"ratio\"].transform('sum')) * 100,2)\n",
    "sort_airline_ratio = delayed_ratio_airline.sort_values(by=\"Ratio_Percentage\",ascending=False)\n",
    "sort_airline_ratio.to_csv('delayed_airlines.csv')"
   ]
  },
  {
   "cell_type": "code",
   "execution_count": 100,
   "metadata": {},
   "outputs": [
    {
     "data": {
      "text/html": [
       "<div>\n",
       "<style scoped>\n",
       "    .dataframe tbody tr th:only-of-type {\n",
       "        vertical-align: middle;\n",
       "    }\n",
       "\n",
       "    .dataframe tbody tr th {\n",
       "        vertical-align: top;\n",
       "    }\n",
       "\n",
       "    .dataframe thead th {\n",
       "        text-align: right;\n",
       "    }\n",
       "</style>\n",
       "<table border=\"1\" class=\"dataframe\">\n",
       "  <thead>\n",
       "    <tr style=\"text-align: right;\">\n",
       "      <th></th>\n",
       "      <th>origin_airport_id</th>\n",
       "      <th>op_unique_carrier</th>\n",
       "      <th>Delayed</th>\n",
       "      <th>ratio</th>\n",
       "      <th>Ratio_Percentage</th>\n",
       "    </tr>\n",
       "  </thead>\n",
       "  <tbody>\n",
       "    <tr>\n",
       "      <th>16</th>\n",
       "      <td>10140</td>\n",
       "      <td>AS</td>\n",
       "      <td>0</td>\n",
       "      <td>38</td>\n",
       "      <td>87.80</td>\n",
       "    </tr>\n",
       "    <tr>\n",
       "      <th>0</th>\n",
       "      <td>10135</td>\n",
       "      <td>9E</td>\n",
       "      <td>0</td>\n",
       "      <td>67</td>\n",
       "      <td>85.61</td>\n",
       "    </tr>\n",
       "    <tr>\n",
       "      <th>8</th>\n",
       "      <td>10135</td>\n",
       "      <td>OH</td>\n",
       "      <td>0</td>\n",
       "      <td>114</td>\n",
       "      <td>85.57</td>\n",
       "    </tr>\n",
       "    <tr>\n",
       "      <th>28</th>\n",
       "      <td>10140</td>\n",
       "      <td>MQ</td>\n",
       "      <td>1</td>\n",
       "      <td>8</td>\n",
       "      <td>85.14</td>\n",
       "    </tr>\n",
       "    <tr>\n",
       "      <th>32</th>\n",
       "      <td>10140</td>\n",
       "      <td>UA</td>\n",
       "      <td>1</td>\n",
       "      <td>20</td>\n",
       "      <td>84.93</td>\n",
       "    </tr>\n",
       "    <tr>\n",
       "      <th>...</th>\n",
       "      <td>...</td>\n",
       "      <td>...</td>\n",
       "      <td>...</td>\n",
       "      <td>...</td>\n",
       "      <td>...</td>\n",
       "    </tr>\n",
       "    <tr>\n",
       "      <th>3519</th>\n",
       "      <td>16218</td>\n",
       "      <td>OO</td>\n",
       "      <td>1</td>\n",
       "      <td>22</td>\n",
       "      <td>NaN</td>\n",
       "    </tr>\n",
       "    <tr>\n",
       "      <th>3520</th>\n",
       "      <td>16218</td>\n",
       "      <td>YV</td>\n",
       "      <td>0</td>\n",
       "      <td>117</td>\n",
       "      <td>NaN</td>\n",
       "    </tr>\n",
       "    <tr>\n",
       "      <th>3521</th>\n",
       "      <td>16218</td>\n",
       "      <td>YV</td>\n",
       "      <td>1</td>\n",
       "      <td>30</td>\n",
       "      <td>NaN</td>\n",
       "    </tr>\n",
       "    <tr>\n",
       "      <th>3522</th>\n",
       "      <td>16869</td>\n",
       "      <td>OO</td>\n",
       "      <td>0</td>\n",
       "      <td>80</td>\n",
       "      <td>NaN</td>\n",
       "    </tr>\n",
       "    <tr>\n",
       "      <th>3523</th>\n",
       "      <td>16869</td>\n",
       "      <td>OO</td>\n",
       "      <td>1</td>\n",
       "      <td>31</td>\n",
       "      <td>NaN</td>\n",
       "    </tr>\n",
       "  </tbody>\n",
       "</table>\n",
       "<p>3524 rows × 5 columns</p>\n",
       "</div>"
      ],
      "text/plain": [
       "     origin_airport_id op_unique_carrier  Delayed  ratio  Ratio_Percentage\n",
       "16               10140                AS        0     38             87.80\n",
       "0                10135                9E        0     67             85.61\n",
       "8                10135                OH        0    114             85.57\n",
       "28               10140                MQ        1      8             85.14\n",
       "32               10140                UA        1     20             84.93\n",
       "...                ...               ...      ...    ...               ...\n",
       "3519             16218                OO        1     22               NaN\n",
       "3520             16218                YV        0    117               NaN\n",
       "3521             16218                YV        1     30               NaN\n",
       "3522             16869                OO        0     80               NaN\n",
       "3523             16869                OO        1     31               NaN\n",
       "\n",
       "[3524 rows x 5 columns]"
      ]
     },
     "execution_count": 100,
     "metadata": {},
     "output_type": "execute_result"
    }
   ],
   "source": [
    "#origin_airport_id\n",
    "delayed_ratio_airport = cleaned_df.groupby([\"origin_airport_id\",\"op_unique_carrier\"])[\"Delayed\"].value_counts().reset_index(name=\"ratio\")\n",
    "delayed_ratio_airport[\"Ratio_Percentage\"] = round((delayed_ratio_airline[\"ratio\"] / delayed_ratio_airline.groupby('op_unique_carrier')[\"ratio\"].transform('sum')) * 100,2)\n",
    "sort_airport_ratio = delayed_ratio_airport.sort_values(by=\"Ratio_Percentage\",ascending=False)\n",
    "sort_airport_ratio.to_csv('delayed_airports.csv')\n"
   ]
  }
 ],
 "metadata": {
  "kernelspec": {
   "display_name": "Python 3",
   "language": "python",
   "name": "python3"
  },
  "language_info": {
   "codemirror_mode": {
    "name": "ipython",
    "version": 3
   },
   "file_extension": ".py",
   "mimetype": "text/x-python",
   "name": "python",
   "nbconvert_exporter": "python",
   "pygments_lexer": "ipython3",
   "version": "3.11.1"
  },
  "orig_nbformat": 4,
  "vscode": {
   "interpreter": {
    "hash": "7627003e78ead900aec203b185a978fc27a38ee0366c28a11b079a9dcc3d571a"
   }
  }
 },
 "nbformat": 4,
 "nbformat_minor": 2
}
